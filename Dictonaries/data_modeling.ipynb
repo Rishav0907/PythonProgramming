{
 "cells": [
  {
   "cell_type": "code",
   "execution_count": 3,
   "metadata": {},
   "outputs": [],
   "source": [
    "playlist={\n",
    "    'title':'patogonia bus',\n",
    "    'author':'Rishav Saha',\n",
    "    'songs':[\n",
    "        {'title':'song1','artist':'[blue]','duration':2.5},\n",
    "        {'title':'song2','artist':['kitty','djcat'],'duration':5.25},\n",
    "        {'title':'song3','artist':['garfiled'],'duration':3.18}\n",
    "\n",
    "    ]\n",
    "}"
   ]
  },
  {
   "cell_type": "code",
   "execution_count": 7,
   "metadata": {},
   "outputs": [
    {
     "name": "stdout",
     "output_type": "stream",
     "text": [
      "10.93\n"
     ]
    }
   ],
   "source": [
    "total=0\n",
    "for song in playlist['songs']:\n",
    "    total+=song['duration']\n",
    "print(total)"
   ]
  },
  {
   "cell_type": "code",
   "execution_count": null,
   "metadata": {},
   "outputs": [],
   "source": []
  }
 ],
 "metadata": {
  "kernelspec": {
   "display_name": "Python 3",
   "language": "python",
   "name": "python3"
  },
  "language_info": {
   "codemirror_mode": {
    "name": "ipython",
    "version": 3
   },
   "file_extension": ".py",
   "mimetype": "text/x-python",
   "name": "python",
   "nbconvert_exporter": "python",
   "pygments_lexer": "ipython3",
   "version": "3.8.3rc1"
  }
 },
 "nbformat": 4,
 "nbformat_minor": 4
}
