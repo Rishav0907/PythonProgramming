{
 "cells": [
  {
   "cell_type": "markdown",
   "metadata": {},
   "source": [
    "# Sort"
   ]
  },
  {
   "cell_type": "code",
   "execution_count": 6,
   "metadata": {},
   "outputs": [
    {
     "data": {
      "text/plain": [
       "[0, 1, 2, 3, 4, 6, 8, 9]"
      ]
     },
     "execution_count": 6,
     "metadata": {},
     "output_type": "execute_result"
    }
   ],
   "source": [
    "num=[6,8,4,9,3,1,2,0]\n",
    "sorted(num)"
   ]
  },
  {
   "cell_type": "code",
   "execution_count": 3,
   "metadata": {},
   "outputs": [
    {
     "data": {
      "text/plain": [
       "[6, 8, 4, 9, 3, 1, 2, 0]"
      ]
     },
     "execution_count": 3,
     "metadata": {},
     "output_type": "execute_result"
    }
   ],
   "source": [
    "num"
   ]
  },
  {
   "cell_type": "code",
   "execution_count": 9,
   "metadata": {},
   "outputs": [],
   "source": [
    "num=[6,8,4,9,3,1,2,0]\n",
    "num.sort() # makes changes in the real list"
   ]
  },
  {
   "cell_type": "code",
   "execution_count": 10,
   "metadata": {},
   "outputs": [
    {
     "data": {
      "text/plain": [
       "[0, 1, 2, 3, 4, 6, 8, 9]"
      ]
     },
     "execution_count": 10,
     "metadata": {},
     "output_type": "execute_result"
    }
   ],
   "source": [
    "num"
   ]
  },
  {
   "cell_type": "code",
   "execution_count": 11,
   "metadata": {},
   "outputs": [
    {
     "data": {
      "text/plain": [
       "[0, 2, 3, 4, 7, 9]"
      ]
     },
     "execution_count": 11,
     "metadata": {},
     "output_type": "execute_result"
    }
   ],
   "source": [
    "sorted((2,9,7,0,3,4))"
   ]
  },
  {
   "cell_type": "code",
   "execution_count": 14,
   "metadata": {},
   "outputs": [
    {
     "data": {
      "text/plain": [
       "[{'username': 'Arpita', 'tweets': []},\n",
       " {'username': 'Pretam', 'tweets': ['I love cricket']},\n",
       " {'username': 'Rishav', 'tweets': ['I love India', 'I love cake']},\n",
       " {'username': 'Swarnav', 'tweets': []}]"
      ]
     },
     "execution_count": 14,
     "metadata": {},
     "output_type": "execute_result"
    }
   ],
   "source": [
    "users=[\n",
    "    {\"username\":'Rishav',\"tweets\":[\"I love India\",\"I love cake\"]},\n",
    "    {\"username\":'Arpita',\"tweets\":[]},\n",
    "    {\"username\":'Pretam',\"tweets\":[\"I love cricket\"]},\n",
    "    {\"username\":'Swarnav',\"tweets\":[]}\n",
    "]\n",
    "\n",
    "sorted(users,key=lambda x:x[\"username\"])"
   ]
  },
  {
   "cell_type": "code",
   "execution_count": 15,
   "metadata": {},
   "outputs": [
    {
     "data": {
      "text/plain": [
       "[{'username': 'Arpita', 'tweets': []},\n",
       " {'username': 'Swarnav', 'tweets': []},\n",
       " {'username': 'Pretam', 'tweets': ['I love cricket']},\n",
       " {'username': 'Rishav', 'tweets': ['I love India', 'I love cake']}]"
      ]
     },
     "execution_count": 15,
     "metadata": {},
     "output_type": "execute_result"
    }
   ],
   "source": [
    "sorted(users,key=lambda i:len(i[\"tweets\"]))"
   ]
  },
  {
   "cell_type": "code",
   "execution_count": 16,
   "metadata": {},
   "outputs": [
    {
     "data": {
      "text/plain": [
       "[{'username': 'Swarnav', 'tweets': []},\n",
       " {'username': 'Rishav', 'tweets': ['I love India', 'I love cake']},\n",
       " {'username': 'Pretam', 'tweets': ['I love cricket']},\n",
       " {'username': 'Arpita', 'tweets': []}]"
      ]
     },
     "execution_count": 16,
     "metadata": {},
     "output_type": "execute_result"
    }
   ],
   "source": [
    "sorted(users,key=lambda x:x[\"username\"],reverse=True)"
   ]
  },
  {
   "cell_type": "code",
   "execution_count": null,
   "metadata": {},
   "outputs": [],
   "source": []
  }
 ],
 "metadata": {
  "kernelspec": {
   "display_name": "Python 3",
   "language": "python",
   "name": "python3"
  },
  "language_info": {
   "codemirror_mode": {
    "name": "ipython",
    "version": 3
   },
   "file_extension": ".py",
   "mimetype": "text/x-python",
   "name": "python",
   "nbconvert_exporter": "python",
   "pygments_lexer": "ipython3",
   "version": "3.8.3rc1"
  }
 },
 "nbformat": 4,
 "nbformat_minor": 4
}
